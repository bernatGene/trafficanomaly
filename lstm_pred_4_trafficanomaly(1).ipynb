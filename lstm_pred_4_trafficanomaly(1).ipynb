{
  "nbformat": 4,
  "nbformat_minor": 0,
  "metadata": {
    "colab": {
      "name": "lstm_pred_4_trafficanomaly",
      "provenance": [],
      "collapsed_sections": []
    },
    "kernelspec": {
      "name": "python3",
      "display_name": "Python 3"
    },
    "language_info": {
      "name": "python"
    },
    "accelerator": "GPU"
  },
  "cells": [
    {
      "cell_type": "code",
      "metadata": {
        "id": "c6nybCbtyLJu"
      },
      "source": [
        "from google.colab import files"
      ],
      "execution_count": 1,
      "outputs": []
    },
    {
      "cell_type": "code",
      "metadata": {
        "id": "LnFCmWsGyM_d"
      },
      "source": [
        "files.upload()"
      ],
      "execution_count": null,
      "outputs": []
    },
    {
      "cell_type": "code",
      "metadata": {
        "id": "hwe2F180yWaW"
      },
      "source": [
        "import json"
      ],
      "execution_count": 3,
      "outputs": []
    },
    {
      "cell_type": "code",
      "metadata": {
        "id": "5502AwuvyahV"
      },
      "source": [
        "with open('out.json', 'r') as f:\n",
        "    tracks = json.load(f)"
      ],
      "execution_count": 4,
      "outputs": []
    },
    {
      "cell_type": "code",
      "metadata": {
        "id": "g5287eW0yTnP"
      },
      "source": [
        "import tensorflow as tf"
      ],
      "execution_count": 5,
      "outputs": []
    },
    {
      "cell_type": "code",
      "metadata": {
        "id": "EKJD89V0yy76"
      },
      "source": [
        "from tensorflow import keras\n",
        "from tensorflow.keras import layers\n",
        "from tensorflow.keras.optimizers.schedules import PiecewiseConstantDecay as pcd\n",
        "\n",
        "\n",
        "import numpy as np\n",
        "import random"
      ],
      "execution_count": 6,
      "outputs": []
    },
    {
      "cell_type": "code",
      "metadata": {
        "colab": {
          "base_uri": "https://localhost:8080/"
        },
        "id": "60JNNuszzAfD",
        "outputId": "47f43eef-98a7-4d7b-b5b9-7f13c1585fbf"
      },
      "source": [
        "tracks_train = tracks[0:int(0.8*len(tracks))]\n",
        "tracks_valid = tracks[int(0.8*len(tracks)):]\n",
        "len(tracks), len(tracks_train), len(tracks_valid)"
      ],
      "execution_count": 7,
      "outputs": [
        {
          "output_type": "execute_result",
          "data": {
            "text/plain": [
              "(748, 598, 150)"
            ]
          },
          "metadata": {
            "tags": []
          },
          "execution_count": 7
        }
      ]
    },
    {
      "cell_type": "code",
      "metadata": {
        "id": "uo87eWBnzCDb"
      },
      "source": [
        "  maxlen = 20\n",
        "  predlen = 10\n",
        "  step = 1"
      ],
      "execution_count": 8,
      "outputs": []
    },
    {
      "cell_type": "code",
      "metadata": {
        "id": "jDhfuW6GzHQJ"
      },
      "source": [
        "def build_dataset(tracks_list, maxlen, predlen, step):\n",
        "  sequences = []\n",
        "  next_points = []\n",
        "  for track in tracks_list:\n",
        "    for i in range(0, len(track)- maxlen-predlen, step):\n",
        "        sequences.append(track[i : i + maxlen])\n",
        "        next_points.append(track[i+maxlen: i+maxlen+predlen])\n",
        "  x = np.zeros((len(sequences), maxlen, 2))\n",
        "  y = np.zeros((len(sequences), predlen*2)) # the prediction shape is flattened to make the architecture simpler\n",
        "  for i, seq in enumerate(sequences):\n",
        "      for j, p in enumerate(seq):\n",
        "          x[i, j, 0] = p[0][0]\n",
        "          x[i, j, 1] = p[0][1]\n",
        "      temp = np.array([[p[0][0], p[0][1]] for p in next_points[i]]).flatten()\n",
        "      y[i] = temp\n",
        "  return x, y"
      ],
      "execution_count": 9,
      "outputs": []
    },
    {
      "cell_type": "code",
      "metadata": {
        "id": "okAHV6Vt1yHd"
      },
      "source": [
        "x, y = build_dataset(tracks, maxlen, predlen, step)"
      ],
      "execution_count": 10,
      "outputs": []
    },
    {
      "cell_type": "code",
      "metadata": {
        "id": "qVeg1kLmzKKd"
      },
      "source": [
        "model = keras.Sequential(\n",
        "    [\n",
        "        layers.InputLayer(input_shape=(maxlen, 2)),\n",
        "        layers.LSTM(64),\n",
        "        layers.Dense(128, activation='relu'),\n",
        "        layers.Dense(32, activation='relu'),\n",
        "        # layers.Dropout(0.2),\n",
        "        layers.Dense(2*predlen, activation=None), # Linear activation\n",
        "    ]\n",
        ")"
      ],
      "execution_count": 11,
      "outputs": []
    },
    {
      "cell_type": "code",
      "metadata": {
        "id": "rks_6GtS5x7z"
      },
      "source": [
        "val_split = 0.2\n",
        "batch_size = 32"
      ],
      "execution_count": 12,
      "outputs": []
    },
    {
      "cell_type": "code",
      "metadata": {
        "id": "PZl8u_x-zLu2"
      },
      "source": [
        "steps = int((len(x)/batch_size) * (1-val_split))\n",
        "boundaries = [a * steps for a in [10, 50, 155]]\n",
        "values = [0.01, 0.001, 0.0001, 0.00005]\n",
        "sch = keras.optimizers.schedules.PiecewiseConstantDecay(\n",
        "    boundaries, values)\n",
        "\n",
        "optimizer = keras.optimizers.Adam(learning_rate=1e-4)\n",
        "model.compile(loss=\"mae\", optimizer=optimizer)"
      ],
      "execution_count": 13,
      "outputs": []
    },
    {
      "cell_type": "code",
      "metadata": {
        "colab": {
          "base_uri": "https://localhost:8080/"
        },
        "id": "HV3qeUvxzPBG",
        "outputId": "4316b406-65e4-4e51-e2b5-f666f3076329"
      },
      "source": [
        "model.summary()"
      ],
      "execution_count": 14,
      "outputs": [
        {
          "output_type": "stream",
          "text": [
            "Model: \"sequential\"\n",
            "_________________________________________________________________\n",
            "Layer (type)                 Output Shape              Param #   \n",
            "=================================================================\n",
            "lstm (LSTM)                  (None, 64)                17152     \n",
            "_________________________________________________________________\n",
            "dense (Dense)                (None, 128)               8320      \n",
            "_________________________________________________________________\n",
            "dense_1 (Dense)              (None, 32)                4128      \n",
            "_________________________________________________________________\n",
            "dense_2 (Dense)              (None, 20)                660       \n",
            "=================================================================\n",
            "Total params: 30,260\n",
            "Trainable params: 30,260\n",
            "Non-trainable params: 0\n",
            "_________________________________________________________________\n"
          ],
          "name": "stdout"
        }
      ]
    },
    {
      "cell_type": "code",
      "metadata": {
        "id": "cUACshw4yGc_"
      },
      "source": [
        "checkpoint_filepath = 'checkpoint55.h5'\n",
        "model_checkpoint_callback = tf.keras.callbacks.ModelCheckpoint(\n",
        "    filepath=checkpoint_filepath,\n",
        "    save_weights_only=False,\n",
        "    monitor='val_loss',\n",
        "    mode='min',\n",
        "    save_best_only=True)"
      ],
      "execution_count": 15,
      "outputs": []
    },
    {
      "cell_type": "code",
      "metadata": {
        "id": "CAQpty8zzRIo",
        "colab": {
          "base_uri": "https://localhost:8080/"
        },
        "outputId": "700adde9-30b2-4f41-efbc-3bebdefb8f23"
      },
      "source": [
        "epochs = 200\n",
        "model.fit(x, y, batch_size=batch_size,\n",
        "          validation_split=val_split, \n",
        "          epochs=epochs, shuffle=True, callbacks=model_checkpoint_callback,\n",
        "          verbose = 1)"
      ],
      "execution_count": 16,
      "outputs": [
        {
          "output_type": "stream",
          "text": [
            "Epoch 1/200\n",
            "357/357 [==============================] - 9s 5ms/step - loss: 223.9358 - val_loss: 248.7549\n",
            "Epoch 2/200\n",
            "357/357 [==============================] - 1s 4ms/step - loss: 183.8480 - val_loss: 201.5822\n",
            "Epoch 3/200\n",
            "357/357 [==============================] - 1s 4ms/step - loss: 153.5984 - val_loss: 195.4159\n",
            "Epoch 4/200\n",
            "357/357 [==============================] - 1s 4ms/step - loss: 147.8205 - val_loss: 191.8136\n",
            "Epoch 5/200\n",
            "357/357 [==============================] - 1s 4ms/step - loss: 144.7894 - val_loss: 189.1308\n",
            "Epoch 6/200\n",
            "357/357 [==============================] - 1s 4ms/step - loss: 141.0346 - val_loss: 182.0960\n",
            "Epoch 7/200\n",
            "357/357 [==============================] - 1s 4ms/step - loss: 130.4404 - val_loss: 162.1021\n",
            "Epoch 8/200\n",
            "357/357 [==============================] - 1s 4ms/step - loss: 106.3393 - val_loss: 117.0367\n",
            "Epoch 9/200\n",
            "357/357 [==============================] - 2s 4ms/step - loss: 60.5986 - val_loss: 38.2078\n",
            "Epoch 10/200\n",
            "357/357 [==============================] - 1s 4ms/step - loss: 22.7055 - val_loss: 17.4043\n",
            "Epoch 11/200\n",
            "357/357 [==============================] - 1s 4ms/step - loss: 13.7610 - val_loss: 9.0064\n",
            "Epoch 12/200\n",
            "357/357 [==============================] - 1s 4ms/step - loss: 9.3949 - val_loss: 6.7939\n",
            "Epoch 13/200\n",
            "357/357 [==============================] - 1s 4ms/step - loss: 7.9250 - val_loss: 6.0155\n",
            "Epoch 14/200\n",
            "357/357 [==============================] - 1s 4ms/step - loss: 7.1706 - val_loss: 5.4336\n",
            "Epoch 15/200\n",
            "357/357 [==============================] - 1s 4ms/step - loss: 6.6861 - val_loss: 5.1919\n",
            "Epoch 16/200\n",
            "357/357 [==============================] - 1s 4ms/step - loss: 6.1958 - val_loss: 4.5553\n",
            "Epoch 17/200\n",
            "357/357 [==============================] - 1s 4ms/step - loss: 5.7723 - val_loss: 4.4138\n",
            "Epoch 18/200\n",
            "357/357 [==============================] - 1s 4ms/step - loss: 5.3876 - val_loss: 4.5767\n",
            "Epoch 19/200\n",
            "357/357 [==============================] - 1s 4ms/step - loss: 5.2570 - val_loss: 4.2583\n",
            "Epoch 20/200\n",
            "357/357 [==============================] - 1s 4ms/step - loss: 5.0122 - val_loss: 4.5501\n",
            "Epoch 21/200\n",
            "357/357 [==============================] - 1s 4ms/step - loss: 4.8942 - val_loss: 3.9053\n",
            "Epoch 22/200\n",
            "357/357 [==============================] - 1s 4ms/step - loss: 4.6965 - val_loss: 4.2204\n",
            "Epoch 23/200\n",
            "357/357 [==============================] - 1s 4ms/step - loss: 4.6589 - val_loss: 3.8841\n",
            "Epoch 24/200\n",
            "357/357 [==============================] - 1s 4ms/step - loss: 4.4450 - val_loss: 3.6576\n",
            "Epoch 25/200\n",
            "357/357 [==============================] - 1s 4ms/step - loss: 4.3043 - val_loss: 3.3941\n",
            "Epoch 26/200\n",
            "357/357 [==============================] - 1s 4ms/step - loss: 4.1907 - val_loss: 3.6146\n",
            "Epoch 27/200\n",
            "357/357 [==============================] - 1s 4ms/step - loss: 4.0424 - val_loss: 3.5904\n",
            "Epoch 28/200\n",
            "357/357 [==============================] - 1s 4ms/step - loss: 3.9248 - val_loss: 3.6747\n",
            "Epoch 29/200\n",
            "357/357 [==============================] - 1s 4ms/step - loss: 3.6829 - val_loss: 3.3528\n",
            "Epoch 30/200\n",
            "357/357 [==============================] - 1s 4ms/step - loss: 3.4622 - val_loss: 2.9173\n",
            "Epoch 31/200\n",
            "357/357 [==============================] - 2s 4ms/step - loss: 3.2989 - val_loss: 2.8111\n",
            "Epoch 32/200\n",
            "357/357 [==============================] - 1s 4ms/step - loss: 3.1150 - val_loss: 2.9035\n",
            "Epoch 33/200\n",
            "357/357 [==============================] - 1s 4ms/step - loss: 3.0826 - val_loss: 2.7489\n",
            "Epoch 34/200\n",
            "357/357 [==============================] - 1s 4ms/step - loss: 2.9955 - val_loss: 2.6716\n",
            "Epoch 35/200\n",
            "357/357 [==============================] - 1s 4ms/step - loss: 2.9533 - val_loss: 2.5999\n",
            "Epoch 36/200\n",
            "357/357 [==============================] - 1s 4ms/step - loss: 2.8460 - val_loss: 2.6640\n",
            "Epoch 37/200\n",
            "357/357 [==============================] - 1s 4ms/step - loss: 2.8466 - val_loss: 2.4414\n",
            "Epoch 38/200\n",
            "357/357 [==============================] - 1s 4ms/step - loss: 2.8072 - val_loss: 2.5023\n",
            "Epoch 39/200\n",
            "357/357 [==============================] - 1s 4ms/step - loss: 2.7603 - val_loss: 2.4515\n",
            "Epoch 40/200\n",
            "357/357 [==============================] - 1s 4ms/step - loss: 2.7789 - val_loss: 2.4209\n",
            "Epoch 41/200\n",
            "357/357 [==============================] - 1s 4ms/step - loss: 2.7079 - val_loss: 2.4546\n",
            "Epoch 42/200\n",
            "357/357 [==============================] - 1s 4ms/step - loss: 2.6962 - val_loss: 2.4157\n",
            "Epoch 43/200\n",
            "357/357 [==============================] - 1s 4ms/step - loss: 2.7037 - val_loss: 2.4528\n",
            "Epoch 44/200\n",
            "357/357 [==============================] - 1s 4ms/step - loss: 2.6557 - val_loss: 2.5669\n",
            "Epoch 45/200\n",
            "357/357 [==============================] - 1s 4ms/step - loss: 2.6273 - val_loss: 2.4763\n",
            "Epoch 46/200\n",
            "357/357 [==============================] - 1s 4ms/step - loss: 2.5622 - val_loss: 2.2422\n",
            "Epoch 47/200\n",
            "357/357 [==============================] - 1s 4ms/step - loss: 2.5802 - val_loss: 2.5375\n",
            "Epoch 48/200\n",
            "357/357 [==============================] - 1s 4ms/step - loss: 2.5554 - val_loss: 2.1568\n",
            "Epoch 49/200\n",
            "357/357 [==============================] - 1s 4ms/step - loss: 2.5220 - val_loss: 2.2800\n",
            "Epoch 50/200\n",
            "357/357 [==============================] - 1s 4ms/step - loss: 2.4926 - val_loss: 2.8144\n",
            "Epoch 51/200\n",
            "357/357 [==============================] - 1s 4ms/step - loss: 2.4750 - val_loss: 2.2026\n",
            "Epoch 52/200\n",
            "357/357 [==============================] - 1s 4ms/step - loss: 2.4614 - val_loss: 2.2539\n",
            "Epoch 53/200\n",
            "357/357 [==============================] - 1s 4ms/step - loss: 2.4291 - val_loss: 2.7097\n",
            "Epoch 54/200\n",
            "357/357 [==============================] - 1s 4ms/step - loss: 2.4362 - val_loss: 2.0461\n",
            "Epoch 55/200\n",
            "357/357 [==============================] - 1s 4ms/step - loss: 2.3768 - val_loss: 2.0114\n",
            "Epoch 56/200\n",
            "357/357 [==============================] - 1s 4ms/step - loss: 2.3998 - val_loss: 2.0157\n",
            "Epoch 57/200\n",
            "357/357 [==============================] - 1s 4ms/step - loss: 2.3567 - val_loss: 1.9863\n",
            "Epoch 58/200\n",
            "357/357 [==============================] - 1s 4ms/step - loss: 2.3964 - val_loss: 2.3883\n",
            "Epoch 59/200\n",
            "357/357 [==============================] - 1s 4ms/step - loss: 2.3320 - val_loss: 2.4483\n",
            "Epoch 60/200\n",
            "357/357 [==============================] - 1s 4ms/step - loss: 2.3272 - val_loss: 1.9282\n",
            "Epoch 61/200\n",
            "357/357 [==============================] - 1s 4ms/step - loss: 2.3021 - val_loss: 1.9546\n",
            "Epoch 62/200\n",
            "357/357 [==============================] - 1s 4ms/step - loss: 2.2571 - val_loss: 2.1988\n",
            "Epoch 63/200\n",
            "357/357 [==============================] - 1s 4ms/step - loss: 2.2470 - val_loss: 1.9899\n",
            "Epoch 64/200\n",
            "357/357 [==============================] - 1s 4ms/step - loss: 2.2463 - val_loss: 1.9238\n",
            "Epoch 65/200\n",
            "357/357 [==============================] - 1s 4ms/step - loss: 2.2107 - val_loss: 1.8845\n",
            "Epoch 66/200\n",
            "357/357 [==============================] - 1s 4ms/step - loss: 2.2129 - val_loss: 2.0953\n",
            "Epoch 67/200\n",
            "357/357 [==============================] - 1s 4ms/step - loss: 2.2330 - val_loss: 2.4351\n",
            "Epoch 68/200\n",
            "357/357 [==============================] - 1s 4ms/step - loss: 2.1918 - val_loss: 1.9023\n",
            "Epoch 69/200\n",
            "357/357 [==============================] - 1s 4ms/step - loss: 2.1625 - val_loss: 2.0884\n",
            "Epoch 70/200\n",
            "357/357 [==============================] - 1s 4ms/step - loss: 2.1627 - val_loss: 1.9268\n",
            "Epoch 71/200\n",
            "357/357 [==============================] - 1s 4ms/step - loss: 2.1774 - val_loss: 2.0261\n",
            "Epoch 72/200\n",
            "357/357 [==============================] - 1s 4ms/step - loss: 2.1273 - val_loss: 2.4537\n",
            "Epoch 73/200\n",
            "357/357 [==============================] - 1s 4ms/step - loss: 2.1093 - val_loss: 1.9708\n",
            "Epoch 74/200\n",
            "357/357 [==============================] - 1s 4ms/step - loss: 2.0982 - val_loss: 1.8150\n",
            "Epoch 75/200\n",
            "357/357 [==============================] - 1s 4ms/step - loss: 2.0845 - val_loss: 1.9260\n",
            "Epoch 76/200\n",
            "357/357 [==============================] - 2s 4ms/step - loss: 2.0982 - val_loss: 1.7358\n",
            "Epoch 77/200\n",
            "357/357 [==============================] - 1s 4ms/step - loss: 2.0256 - val_loss: 1.8380\n",
            "Epoch 78/200\n",
            "357/357 [==============================] - 1s 4ms/step - loss: 2.0496 - val_loss: 1.7629\n",
            "Epoch 79/200\n",
            "357/357 [==============================] - 1s 4ms/step - loss: 2.0566 - val_loss: 1.6988\n",
            "Epoch 80/200\n",
            "357/357 [==============================] - 1s 4ms/step - loss: 2.0283 - val_loss: 1.9774\n",
            "Epoch 81/200\n",
            "357/357 [==============================] - 2s 4ms/step - loss: 2.0309 - val_loss: 2.0307\n",
            "Epoch 82/200\n",
            "357/357 [==============================] - 1s 4ms/step - loss: 2.0216 - val_loss: 2.0937\n",
            "Epoch 83/200\n",
            "357/357 [==============================] - 1s 4ms/step - loss: 1.9852 - val_loss: 1.7977\n",
            "Epoch 84/200\n",
            "357/357 [==============================] - 1s 4ms/step - loss: 1.9745 - val_loss: 2.4327\n",
            "Epoch 85/200\n",
            "357/357 [==============================] - 1s 4ms/step - loss: 2.0085 - val_loss: 1.7298\n",
            "Epoch 86/200\n",
            "357/357 [==============================] - 1s 4ms/step - loss: 1.9506 - val_loss: 1.8339\n",
            "Epoch 87/200\n",
            "357/357 [==============================] - 1s 4ms/step - loss: 1.9576 - val_loss: 1.7545\n",
            "Epoch 88/200\n",
            "357/357 [==============================] - 1s 4ms/step - loss: 1.9201 - val_loss: 1.9462\n",
            "Epoch 89/200\n",
            "357/357 [==============================] - 1s 4ms/step - loss: 1.9162 - val_loss: 1.8671\n",
            "Epoch 90/200\n",
            "357/357 [==============================] - 1s 4ms/step - loss: 1.9309 - val_loss: 1.7982\n",
            "Epoch 91/200\n",
            "357/357 [==============================] - 1s 4ms/step - loss: 1.9033 - val_loss: 1.7223\n",
            "Epoch 92/200\n",
            "357/357 [==============================] - 1s 4ms/step - loss: 1.8703 - val_loss: 1.9186\n",
            "Epoch 93/200\n",
            "357/357 [==============================] - 1s 4ms/step - loss: 1.8878 - val_loss: 2.0704\n",
            "Epoch 94/200\n",
            "357/357 [==============================] - 1s 4ms/step - loss: 1.8673 - val_loss: 1.7185\n",
            "Epoch 95/200\n",
            "357/357 [==============================] - 1s 4ms/step - loss: 1.8669 - val_loss: 1.7307\n",
            "Epoch 96/200\n",
            "357/357 [==============================] - 1s 4ms/step - loss: 1.8886 - val_loss: 1.6936\n",
            "Epoch 97/200\n",
            "357/357 [==============================] - 1s 4ms/step - loss: 1.8759 - val_loss: 1.5486\n",
            "Epoch 98/200\n",
            "357/357 [==============================] - 1s 4ms/step - loss: 1.8861 - val_loss: 1.8324\n",
            "Epoch 99/200\n",
            "357/357 [==============================] - 1s 4ms/step - loss: 1.8542 - val_loss: 1.6832\n",
            "Epoch 100/200\n",
            "357/357 [==============================] - 1s 4ms/step - loss: 1.8506 - val_loss: 2.2162\n",
            "Epoch 101/200\n",
            "357/357 [==============================] - 1s 4ms/step - loss: 1.8645 - val_loss: 2.0416\n",
            "Epoch 102/200\n",
            "357/357 [==============================] - 2s 4ms/step - loss: 1.8758 - val_loss: 1.8113\n",
            "Epoch 103/200\n",
            "357/357 [==============================] - 1s 4ms/step - loss: 1.8164 - val_loss: 1.6596\n",
            "Epoch 104/200\n",
            "357/357 [==============================] - 1s 4ms/step - loss: 1.8479 - val_loss: 1.5393\n",
            "Epoch 105/200\n",
            "357/357 [==============================] - 1s 4ms/step - loss: 1.8267 - val_loss: 1.6542\n",
            "Epoch 106/200\n",
            "357/357 [==============================] - 1s 4ms/step - loss: 1.7887 - val_loss: 1.7319\n",
            "Epoch 107/200\n",
            "357/357 [==============================] - 1s 4ms/step - loss: 1.8100 - val_loss: 1.7056\n",
            "Epoch 108/200\n",
            "357/357 [==============================] - 1s 4ms/step - loss: 1.7763 - val_loss: 1.4937\n",
            "Epoch 109/200\n",
            "357/357 [==============================] - 1s 4ms/step - loss: 1.7646 - val_loss: 1.5785\n",
            "Epoch 110/200\n",
            "357/357 [==============================] - 1s 4ms/step - loss: 1.8019 - val_loss: 1.5952\n",
            "Epoch 111/200\n",
            "357/357 [==============================] - 1s 4ms/step - loss: 1.7885 - val_loss: 1.6396\n",
            "Epoch 112/200\n",
            "357/357 [==============================] - 1s 4ms/step - loss: 1.7332 - val_loss: 1.7383\n",
            "Epoch 113/200\n",
            "357/357 [==============================] - 1s 4ms/step - loss: 1.7820 - val_loss: 1.8586\n",
            "Epoch 114/200\n",
            "357/357 [==============================] - 1s 4ms/step - loss: 1.7362 - val_loss: 1.6180\n",
            "Epoch 115/200\n",
            "357/357 [==============================] - 1s 4ms/step - loss: 1.7282 - val_loss: 1.5645\n",
            "Epoch 116/200\n",
            "357/357 [==============================] - 1s 4ms/step - loss: 1.7181 - val_loss: 1.4951\n",
            "Epoch 117/200\n",
            "357/357 [==============================] - 1s 4ms/step - loss: 1.7184 - val_loss: 1.5300\n",
            "Epoch 118/200\n",
            "357/357 [==============================] - 1s 4ms/step - loss: 1.7422 - val_loss: 1.7123\n",
            "Epoch 119/200\n",
            "357/357 [==============================] - 1s 4ms/step - loss: 1.7149 - val_loss: 1.6271\n",
            "Epoch 120/200\n",
            "357/357 [==============================] - 1s 4ms/step - loss: 1.7314 - val_loss: 1.7040\n",
            "Epoch 121/200\n",
            "357/357 [==============================] - 2s 4ms/step - loss: 1.7390 - val_loss: 1.4745\n",
            "Epoch 122/200\n",
            "357/357 [==============================] - 1s 4ms/step - loss: 1.7485 - val_loss: 2.0374\n",
            "Epoch 123/200\n",
            "357/357 [==============================] - 1s 4ms/step - loss: 1.7315 - val_loss: 1.4021\n",
            "Epoch 124/200\n",
            "357/357 [==============================] - 1s 4ms/step - loss: 1.7252 - val_loss: 1.5768\n",
            "Epoch 125/200\n",
            "357/357 [==============================] - 1s 4ms/step - loss: 1.7362 - val_loss: 1.5945\n",
            "Epoch 126/200\n",
            "357/357 [==============================] - 1s 4ms/step - loss: 1.7346 - val_loss: 2.0486\n",
            "Epoch 127/200\n",
            "357/357 [==============================] - 1s 4ms/step - loss: 1.7361 - val_loss: 1.6475\n",
            "Epoch 128/200\n",
            "357/357 [==============================] - 1s 4ms/step - loss: 1.7309 - val_loss: 1.5937\n",
            "Epoch 129/200\n",
            "357/357 [==============================] - 1s 4ms/step - loss: 1.7401 - val_loss: 1.5101\n",
            "Epoch 130/200\n",
            "357/357 [==============================] - 1s 4ms/step - loss: 1.7447 - val_loss: 1.5001\n",
            "Epoch 131/200\n",
            "357/357 [==============================] - 1s 4ms/step - loss: 1.6798 - val_loss: 1.5425\n",
            "Epoch 132/200\n",
            "357/357 [==============================] - 2s 4ms/step - loss: 1.7276 - val_loss: 1.4437\n",
            "Epoch 133/200\n",
            "357/357 [==============================] - 1s 4ms/step - loss: 1.6835 - val_loss: 1.4358\n",
            "Epoch 134/200\n",
            "357/357 [==============================] - 1s 4ms/step - loss: 1.6587 - val_loss: 2.4143\n",
            "Epoch 135/200\n",
            "357/357 [==============================] - 1s 4ms/step - loss: 1.6778 - val_loss: 1.5980\n",
            "Epoch 136/200\n",
            "357/357 [==============================] - 1s 4ms/step - loss: 1.6698 - val_loss: 1.5843\n",
            "Epoch 137/200\n",
            "357/357 [==============================] - 1s 4ms/step - loss: 1.6564 - val_loss: 2.0629\n",
            "Epoch 138/200\n",
            "357/357 [==============================] - 1s 4ms/step - loss: 1.6388 - val_loss: 1.4997\n",
            "Epoch 139/200\n",
            "357/357 [==============================] - 1s 4ms/step - loss: 1.6484 - val_loss: 1.5705\n",
            "Epoch 140/200\n",
            "357/357 [==============================] - 1s 4ms/step - loss: 1.6484 - val_loss: 1.5956\n",
            "Epoch 141/200\n",
            "357/357 [==============================] - 1s 4ms/step - loss: 1.6608 - val_loss: 1.3661\n",
            "Epoch 142/200\n",
            "357/357 [==============================] - 1s 4ms/step - loss: 1.6500 - val_loss: 1.6024\n",
            "Epoch 143/200\n",
            "357/357 [==============================] - 1s 4ms/step - loss: 1.6243 - val_loss: 1.7057\n",
            "Epoch 144/200\n",
            "357/357 [==============================] - 1s 4ms/step - loss: 1.6207 - val_loss: 1.5022\n",
            "Epoch 145/200\n",
            "357/357 [==============================] - 1s 4ms/step - loss: 1.6466 - val_loss: 1.2661\n",
            "Epoch 146/200\n",
            "357/357 [==============================] - 1s 4ms/step - loss: 1.6110 - val_loss: 1.5865\n",
            "Epoch 147/200\n",
            "357/357 [==============================] - 2s 4ms/step - loss: 1.5999 - val_loss: 1.3375\n",
            "Epoch 148/200\n",
            "357/357 [==============================] - 1s 4ms/step - loss: 1.6435 - val_loss: 1.3328\n",
            "Epoch 149/200\n",
            "357/357 [==============================] - 1s 4ms/step - loss: 1.6251 - val_loss: 1.5260\n",
            "Epoch 150/200\n",
            "357/357 [==============================] - 1s 4ms/step - loss: 1.6074 - val_loss: 1.6772\n",
            "Epoch 151/200\n",
            "357/357 [==============================] - 1s 4ms/step - loss: 1.5888 - val_loss: 1.3138\n",
            "Epoch 152/200\n",
            "357/357 [==============================] - 1s 4ms/step - loss: 1.5659 - val_loss: 1.2935\n",
            "Epoch 153/200\n",
            "357/357 [==============================] - 1s 4ms/step - loss: 1.5683 - val_loss: 1.3131\n",
            "Epoch 154/200\n",
            "357/357 [==============================] - 1s 4ms/step - loss: 1.6466 - val_loss: 1.7115\n",
            "Epoch 155/200\n",
            "357/357 [==============================] - 1s 4ms/step - loss: 1.5875 - val_loss: 1.3621\n",
            "Epoch 156/200\n",
            "357/357 [==============================] - 1s 4ms/step - loss: 1.6100 - val_loss: 1.5406\n",
            "Epoch 157/200\n",
            "357/357 [==============================] - 1s 4ms/step - loss: 1.5640 - val_loss: 1.5983\n",
            "Epoch 158/200\n",
            "357/357 [==============================] - 1s 4ms/step - loss: 1.6084 - val_loss: 1.4183\n",
            "Epoch 159/200\n",
            "357/357 [==============================] - 1s 4ms/step - loss: 1.5629 - val_loss: 1.2998\n",
            "Epoch 160/200\n",
            "357/357 [==============================] - 1s 4ms/step - loss: 1.6107 - val_loss: 1.9744\n",
            "Epoch 161/200\n",
            "357/357 [==============================] - 1s 4ms/step - loss: 1.5474 - val_loss: 1.2977\n",
            "Epoch 162/200\n",
            "357/357 [==============================] - 1s 4ms/step - loss: 1.5961 - val_loss: 1.4489\n",
            "Epoch 163/200\n",
            "357/357 [==============================] - 1s 4ms/step - loss: 1.5954 - val_loss: 1.4173\n",
            "Epoch 164/200\n",
            "357/357 [==============================] - 1s 4ms/step - loss: 1.5468 - val_loss: 1.4359\n",
            "Epoch 165/200\n",
            "357/357 [==============================] - 1s 4ms/step - loss: 1.5643 - val_loss: 1.2706\n",
            "Epoch 166/200\n",
            "357/357 [==============================] - 2s 4ms/step - loss: 1.5548 - val_loss: 1.7219\n",
            "Epoch 167/200\n",
            "357/357 [==============================] - 1s 4ms/step - loss: 1.5632 - val_loss: 1.4769\n",
            "Epoch 168/200\n",
            "357/357 [==============================] - 1s 4ms/step - loss: 1.5854 - val_loss: 1.4760\n",
            "Epoch 169/200\n",
            "357/357 [==============================] - 1s 4ms/step - loss: 1.5584 - val_loss: 1.4531\n",
            "Epoch 170/200\n",
            "357/357 [==============================] - 2s 4ms/step - loss: 1.5702 - val_loss: 1.3123\n",
            "Epoch 171/200\n",
            "357/357 [==============================] - 1s 4ms/step - loss: 1.5564 - val_loss: 1.3580\n",
            "Epoch 172/200\n",
            "357/357 [==============================] - 1s 4ms/step - loss: 1.5221 - val_loss: 1.3553\n",
            "Epoch 173/200\n",
            "357/357 [==============================] - 1s 4ms/step - loss: 1.5150 - val_loss: 1.5115\n",
            "Epoch 174/200\n",
            "357/357 [==============================] - 1s 4ms/step - loss: 1.5770 - val_loss: 1.9093\n",
            "Epoch 175/200\n",
            "357/357 [==============================] - 1s 4ms/step - loss: 1.5651 - val_loss: 1.5097\n",
            "Epoch 176/200\n",
            "357/357 [==============================] - 1s 4ms/step - loss: 1.5200 - val_loss: 1.5892\n",
            "Epoch 177/200\n",
            "357/357 [==============================] - 1s 4ms/step - loss: 1.5860 - val_loss: 1.9021\n",
            "Epoch 178/200\n",
            "357/357 [==============================] - 1s 4ms/step - loss: 1.5498 - val_loss: 1.5843\n",
            "Epoch 179/200\n",
            "357/357 [==============================] - 1s 4ms/step - loss: 1.5636 - val_loss: 1.3236\n",
            "Epoch 180/200\n",
            "357/357 [==============================] - 1s 4ms/step - loss: 1.5603 - val_loss: 1.8249\n",
            "Epoch 181/200\n",
            "357/357 [==============================] - 1s 4ms/step - loss: 1.5510 - val_loss: 1.3325\n",
            "Epoch 182/200\n",
            "357/357 [==============================] - 1s 4ms/step - loss: 1.5274 - val_loss: 1.5457\n",
            "Epoch 183/200\n",
            "357/357 [==============================] - 1s 4ms/step - loss: 1.5045 - val_loss: 1.6322\n",
            "Epoch 184/200\n",
            "357/357 [==============================] - 1s 4ms/step - loss: 1.5473 - val_loss: 1.5076\n",
            "Epoch 185/200\n",
            "357/357 [==============================] - 2s 4ms/step - loss: 1.5495 - val_loss: 1.4697\n",
            "Epoch 186/200\n",
            "357/357 [==============================] - 1s 4ms/step - loss: 1.5148 - val_loss: 2.0565\n",
            "Epoch 187/200\n",
            "357/357 [==============================] - 1s 4ms/step - loss: 1.5173 - val_loss: 1.4168\n",
            "Epoch 188/200\n",
            "357/357 [==============================] - 2s 4ms/step - loss: 1.5233 - val_loss: 1.3703\n",
            "Epoch 189/200\n",
            "357/357 [==============================] - 1s 4ms/step - loss: 1.5159 - val_loss: 1.5296\n",
            "Epoch 190/200\n",
            "357/357 [==============================] - 1s 4ms/step - loss: 1.5298 - val_loss: 1.6220\n",
            "Epoch 191/200\n",
            "357/357 [==============================] - 1s 4ms/step - loss: 1.5151 - val_loss: 1.2158\n",
            "Epoch 192/200\n",
            "357/357 [==============================] - 1s 4ms/step - loss: 1.5112 - val_loss: 1.9804\n",
            "Epoch 193/200\n",
            "357/357 [==============================] - 1s 4ms/step - loss: 1.5138 - val_loss: 1.2561\n",
            "Epoch 194/200\n",
            "357/357 [==============================] - 2s 4ms/step - loss: 1.4805 - val_loss: 1.7208\n",
            "Epoch 195/200\n",
            "357/357 [==============================] - 1s 4ms/step - loss: 1.5177 - val_loss: 1.3365\n",
            "Epoch 196/200\n",
            "357/357 [==============================] - 2s 4ms/step - loss: 1.5093 - val_loss: 1.7012\n",
            "Epoch 197/200\n",
            "357/357 [==============================] - 1s 4ms/step - loss: 1.4895 - val_loss: 1.6380\n",
            "Epoch 198/200\n",
            "357/357 [==============================] - 1s 4ms/step - loss: 1.5392 - val_loss: 1.3340\n",
            "Epoch 199/200\n",
            "357/357 [==============================] - 1s 4ms/step - loss: 1.4799 - val_loss: 1.3816\n",
            "Epoch 200/200\n",
            "357/357 [==============================] - 1s 4ms/step - loss: 1.5165 - val_loss: 1.3694\n"
          ],
          "name": "stdout"
        },
        {
          "output_type": "execute_result",
          "data": {
            "text/plain": [
              "<tensorflow.python.keras.callbacks.History at 0x7fd8700a3e90>"
            ]
          },
          "metadata": {
            "tags": []
          },
          "execution_count": 16
        }
      ]
    },
    {
      "cell_type": "code",
      "metadata": {
        "id": "caAhYtObzaPr"
      },
      "source": [
        " optimizer = keras.optimizers.Adam(learning_rate=0.000001)\n",
        "model.compile(loss=\"mae\", optimizer=optimizer)\n",
        "epochs = 30\n",
        "model.fit(x, y, batch_size=batch_size,\n",
        "          validation_split=val_split, \n",
        "          epochs=epochs, shuffle=True, verbose = 1)"
      ],
      "execution_count": null,
      "outputs": []
    },
    {
      "cell_type": "code",
      "metadata": {
        "id": "vMK27GNa8pQc"
      },
      "source": [
        "model.save('trained_colab2_55.h5')"
      ],
      "execution_count": 17,
      "outputs": []
    },
    {
      "cell_type": "code",
      "metadata": {
        "id": "k_WWOCNgEPcU"
      },
      "source": [
        "model.load_weights('trained_colab2_83.h5')"
      ],
      "execution_count": null,
      "outputs": []
    },
    {
      "cell_type": "code",
      "metadata": {
        "colab": {
          "base_uri": "https://localhost:8080/",
          "height": 17
        },
        "id": "uAPgu699c7i3",
        "outputId": "3b5c50ba-c97c-49f4-d304-c33e338a41f8"
      },
      "source": [
        "files.download('/content/trained_colab2_55.h5')"
      ],
      "execution_count": 18,
      "outputs": [
        {
          "output_type": "display_data",
          "data": {
            "application/javascript": [
              "\n",
              "    async function download(id, filename, size) {\n",
              "      if (!google.colab.kernel.accessAllowed) {\n",
              "        return;\n",
              "      }\n",
              "      const div = document.createElement('div');\n",
              "      const label = document.createElement('label');\n",
              "      label.textContent = `Downloading \"${filename}\": `;\n",
              "      div.appendChild(label);\n",
              "      const progress = document.createElement('progress');\n",
              "      progress.max = size;\n",
              "      div.appendChild(progress);\n",
              "      document.body.appendChild(div);\n",
              "\n",
              "      const buffers = [];\n",
              "      let downloaded = 0;\n",
              "\n",
              "      const channel = await google.colab.kernel.comms.open(id);\n",
              "      // Send a message to notify the kernel that we're ready.\n",
              "      channel.send({})\n",
              "\n",
              "      for await (const message of channel.messages) {\n",
              "        // Send a message to notify the kernel that we're ready.\n",
              "        channel.send({})\n",
              "        if (message.buffers) {\n",
              "          for (const buffer of message.buffers) {\n",
              "            buffers.push(buffer);\n",
              "            downloaded += buffer.byteLength;\n",
              "            progress.value = downloaded;\n",
              "          }\n",
              "        }\n",
              "      }\n",
              "      const blob = new Blob(buffers, {type: 'application/binary'});\n",
              "      const a = document.createElement('a');\n",
              "      a.href = window.URL.createObjectURL(blob);\n",
              "      a.download = filename;\n",
              "      div.appendChild(a);\n",
              "      a.click();\n",
              "      div.remove();\n",
              "    }\n",
              "  "
            ],
            "text/plain": [
              "<IPython.core.display.Javascript object>"
            ]
          },
          "metadata": {
            "tags": []
          }
        },
        {
          "output_type": "display_data",
          "data": {
            "application/javascript": [
              "download(\"download_b8f74e40-163f-4e4b-a483-5e0b0ad6c9cc\", \"trained_colab2_55.h5\", 405056)"
            ],
            "text/plain": [
              "<IPython.core.display.Javascript object>"
            ]
          },
          "metadata": {
            "tags": []
          }
        }
      ]
    },
    {
      "cell_type": "code",
      "metadata": {
        "colab": {
          "base_uri": "https://localhost:8080/"
        },
        "id": "Nps8AXem85TK",
        "outputId": "c8787215-2ef9-4f8f-fcfa-8bd0525af2a3"
      },
      "source": [
        "!ls"
      ],
      "execution_count": null,
      "outputs": [
        {
          "output_type": "stream",
          "text": [
            "out.json  sample_data  trained_colab2.h5\n"
          ],
          "name": "stdout"
        }
      ]
    },
    {
      "cell_type": "code",
      "metadata": {
        "id": "ptY-WT_n89D4"
      },
      "source": [
        "predictions = model(x[0:100])"
      ],
      "execution_count": null,
      "outputs": []
    },
    {
      "cell_type": "code",
      "metadata": {
        "colab": {
          "base_uri": "https://localhost:8080/"
        },
        "id": "cjCefv329WVf",
        "outputId": "7300d527-6a67-4705-f44e-a27e5033c562"
      },
      "source": [
        "predictions.shape"
      ],
      "execution_count": null,
      "outputs": [
        {
          "output_type": "execute_result",
          "data": {
            "text/plain": [
              "TensorShape([100, 20])"
            ]
          },
          "metadata": {
            "tags": []
          },
          "execution_count": 28
        }
      ]
    },
    {
      "cell_type": "code",
      "metadata": {
        "colab": {
          "base_uri": "https://localhost:8080/"
        },
        "id": "_vOy9UrS9dfQ",
        "outputId": "c5dcdab0-7ace-4582-d409-94e739dbd74c"
      },
      "source": [
        "x.shape"
      ],
      "execution_count": null,
      "outputs": [
        {
          "output_type": "execute_result",
          "data": {
            "text/plain": [
              "(236115, 20, 2)"
            ]
          },
          "metadata": {
            "tags": []
          },
          "execution_count": 29
        }
      ]
    },
    {
      "cell_type": "code",
      "metadata": {
        "colab": {
          "base_uri": "https://localhost:8080/"
        },
        "id": "2KeP-pvW9gug",
        "outputId": "35aa10bf-8bf6-4264-d37a-2f39ccde0869"
      },
      "source": [
        "x[20], y[20]"
      ],
      "execution_count": null,
      "outputs": [
        {
          "output_type": "execute_result",
          "data": {
            "text/plain": [
              "(array([[ 41., 136.],\n",
              "        [ 39., 137.],\n",
              "        [ 39., 137.],\n",
              "        [ 37., 138.],\n",
              "        [ 37., 138.],\n",
              "        [ 34., 139.],\n",
              "        [ 34., 139.],\n",
              "        [ 32., 140.],\n",
              "        [ 32., 140.],\n",
              "        [ 30., 141.],\n",
              "        [ 30., 141.],\n",
              "        [ 28., 143.],\n",
              "        [ 28., 143.],\n",
              "        [ 25., 144.],\n",
              "        [ 25., 144.],\n",
              "        [ 23., 145.],\n",
              "        [ 23., 145.],\n",
              "        [ 21., 147.],\n",
              "        [ 21., 147.],\n",
              "        [ 18., 148.]]),\n",
              " array([ 18., 148.,  15., 149.,  15., 149.,  13., 151.,  13., 151.,  10.,\n",
              "        152.,  10., 152.,   7., 154.,   7., 154.,   4., 155.]))"
            ]
          },
          "metadata": {
            "tags": []
          },
          "execution_count": 30
        }
      ]
    },
    {
      "cell_type": "code",
      "metadata": {
        "colab": {
          "base_uri": "https://localhost:8080/"
        },
        "id": "Gsl2RNyK9vak",
        "outputId": "a46d0c24-a53c-4cea-eed9-fc26cf51ed26"
      },
      "source": [
        "[list(p) for p in predictions[20].numpy().reshape(10,2).astype(int)]"
      ],
      "execution_count": null,
      "outputs": [
        {
          "output_type": "execute_result",
          "data": {
            "text/plain": [
              "[[19, 149],\n",
              " [18, 150],\n",
              " [16, 150],\n",
              " [15, 151],\n",
              " [14, 151],\n",
              " [13, 152],\n",
              " [12, 152],\n",
              " [11, 153],\n",
              " [10, 153],\n",
              " [9, 154]]"
            ]
          },
          "metadata": {
            "tags": []
          },
          "execution_count": 26
        }
      ]
    },
    {
      "cell_type": "code",
      "metadata": {
        "id": "KxXkipoN9ynL"
      },
      "source": [
        "example = tracks[0:100]"
      ],
      "execution_count": null,
      "outputs": []
    },
    {
      "cell_type": "code",
      "metadata": {
        "colab": {
          "base_uri": "https://localhost:8080/"
        },
        "id": "QChKO78HA0Zj",
        "outputId": "6dd80147-8081-44d8-bacc-ba73994d5ef5"
      },
      "source": [
        "y[0]"
      ],
      "execution_count": null,
      "outputs": [
        {
          "output_type": "execute_result",
          "data": {
            "text/plain": [
              "array([ 41., 136.,  39., 137.,  39., 137.,  37., 138.,  37., 138.,  34.,\n",
              "       139.,  34., 139.,  32., 140.,  32., 140.,  30., 141.])"
            ]
          },
          "metadata": {
            "tags": []
          },
          "execution_count": 17
        }
      ]
    },
    {
      "cell_type": "code",
      "metadata": {
        "colab": {
          "base_uri": "https://localhost:8080/"
        },
        "id": "W74WhCpUA1gb",
        "outputId": "68f9894d-43df-4d75-df89-79ccb1e95a41"
      },
      "source": [
        "y[0].reshape(10,2)"
      ],
      "execution_count": null,
      "outputs": [
        {
          "output_type": "execute_result",
          "data": {
            "text/plain": [
              "array([[ 41., 136.],\n",
              "       [ 39., 137.],\n",
              "       [ 39., 137.],\n",
              "       [ 37., 138.],\n",
              "       [ 37., 138.],\n",
              "       [ 34., 139.],\n",
              "       [ 34., 139.],\n",
              "       [ 32., 140.],\n",
              "       [ 32., 140.],\n",
              "       [ 30., 141.]])"
            ]
          },
          "metadata": {
            "tags": []
          },
          "execution_count": 18
        }
      ]
    },
    {
      "cell_type": "code",
      "metadata": {
        "id": "fqNy4Ufz-UtL"
      },
      "source": [
        "example_preds = []\n",
        "for track in example:\n",
        "  pred = []\n",
        "  for i in range(0, maxlen):\n",
        "    pred.append(track[i])\n",
        "  for i in range(0, len(track)-maxlen-predlen):\n",
        "    seq = track[i : i + maxlen]\n",
        "    inp = np.zeros((1, maxlen, 2))\n",
        "    for j, s in enumerate(seq):\n",
        "      inp[0, j, 0] = s[0][0]\n",
        "      inp[0, j, 1] = s[0][1]\n",
        "    ps = np.around(model(inp).numpy().reshape(predlen,2)).astype(int)\n",
        "    psl = [list(p) for p in ps]\n",
        "    pred.append((track[maxlen+i][0], psl))\n",
        "  example_preds.append(pred)"
      ],
      "execution_count": null,
      "outputs": []
    },
    {
      "cell_type": "code",
      "metadata": {
        "id": "-5yCZboOBnYZ"
      },
      "source": [
        "example[0]"
      ],
      "execution_count": null,
      "outputs": []
    },
    {
      "cell_type": "code",
      "metadata": {
        "id": "gPgDIy9FCPeu"
      },
      "source": [
        "for i, point in enumerate(example_preds[0]):\n",
        "  print(i, point)"
      ],
      "execution_count": null,
      "outputs": []
    },
    {
      "cell_type": "code",
      "metadata": {
        "id": "X46x0bR5DKNy"
      },
      "source": [
        "with open('predicts.json', 'w') as f:\n",
        "  json.dump(example_preds, f, default=lambda x: str(x))"
      ],
      "execution_count": null,
      "outputs": []
    },
    {
      "cell_type": "code",
      "metadata": {
        "id": "LnKk97y2Dbky",
        "colab": {
          "base_uri": "https://localhost:8080/",
          "height": 17
        },
        "outputId": "b65719a2-2794-4ef0-e35f-24a5daf05dd1"
      },
      "source": [
        "files.download('predicts.json')"
      ],
      "execution_count": null,
      "outputs": [
        {
          "output_type": "display_data",
          "data": {
            "application/javascript": [
              "\n",
              "    async function download(id, filename, size) {\n",
              "      if (!google.colab.kernel.accessAllowed) {\n",
              "        return;\n",
              "      }\n",
              "      const div = document.createElement('div');\n",
              "      const label = document.createElement('label');\n",
              "      label.textContent = `Downloading \"${filename}\": `;\n",
              "      div.appendChild(label);\n",
              "      const progress = document.createElement('progress');\n",
              "      progress.max = size;\n",
              "      div.appendChild(progress);\n",
              "      document.body.appendChild(div);\n",
              "\n",
              "      const buffers = [];\n",
              "      let downloaded = 0;\n",
              "\n",
              "      const channel = await google.colab.kernel.comms.open(id);\n",
              "      // Send a message to notify the kernel that we're ready.\n",
              "      channel.send({})\n",
              "\n",
              "      for await (const message of channel.messages) {\n",
              "        // Send a message to notify the kernel that we're ready.\n",
              "        channel.send({})\n",
              "        if (message.buffers) {\n",
              "          for (const buffer of message.buffers) {\n",
              "            buffers.push(buffer);\n",
              "            downloaded += buffer.byteLength;\n",
              "            progress.value = downloaded;\n",
              "          }\n",
              "        }\n",
              "      }\n",
              "      const blob = new Blob(buffers, {type: 'application/binary'});\n",
              "      const a = document.createElement('a');\n",
              "      a.href = window.URL.createObjectURL(blob);\n",
              "      a.download = filename;\n",
              "      div.appendChild(a);\n",
              "      a.click();\n",
              "      div.remove();\n",
              "    }\n",
              "  "
            ],
            "text/plain": [
              "<IPython.core.display.Javascript object>"
            ]
          },
          "metadata": {
            "tags": []
          }
        },
        {
          "output_type": "display_data",
          "data": {
            "application/javascript": [
              "download(\"download_12ca602b-7b89-4e99-865f-b197040bfca8\", \"predicts.json\", 1167504)"
            ],
            "text/plain": [
              "<IPython.core.display.Javascript object>"
            ]
          },
          "metadata": {
            "tags": []
          }
        }
      ]
    },
    {
      "cell_type": "code",
      "metadata": {
        "id": "6s7fUrI7FfPU"
      },
      "source": [
        ""
      ],
      "execution_count": null,
      "outputs": []
    },
    {
      "cell_type": "code",
      "metadata": {
        "id": "khFY5rWB2iXl"
      },
      "source": [
        ""
      ],
      "execution_count": null,
      "outputs": []
    }
  ]
}